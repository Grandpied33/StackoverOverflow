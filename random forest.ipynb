{
 "cells": [
  {
   "cell_type": "code",
   "execution_count": 10,
   "metadata": {},
   "outputs": [],
   "source": [
    "import pandas as pd\n",
    "import datetime\n",
    "from ast import literal_eval\n",
    "import numpy as np\n",
    "\n",
    "import nltk\n",
    "from nltk.corpus import stopwords\n",
    "from nltk.tokenize import word_tokenize\n",
    "from nltk import ngrams\n",
    "from sklearn.feature_extraction.text import CountVectorizer\n",
    "from sklearn.feature_extraction.text import TfidfVectorizer\n",
    "import re\n",
    "import scipy.sparse as sp\n",
    "\n",
    "from sklearn.ensemble import RandomForestRegressor\n",
    "from sklearn.metrics import accuracy_score"
   ]
  },
  {
   "cell_type": "code",
   "execution_count": 2,
   "metadata": {},
   "outputs": [],
   "source": [
    "# Load data\n",
    "data_path=\"\"\n",
    "converters={\"Body_A\": literal_eval, \"Body_A\": literal_eval}\n",
    "df = pd.read_csv('./merged_data.csv', encoding = \"ISO-8859-1\")\n",
    "df = df[:25000]"
   ]
  },
  {
   "cell_type": "code",
   "execution_count": 3,
   "metadata": {},
   "outputs": [],
   "source": [
    "df = df[:25000]\n",
    "ref_time = datetime.datetime(2008, 1, 1)\n",
    "\n",
    "def to_integer(dt_timeQ, dt_timeA):\n",
    "    timeQ = dt_timeQ - ref_time\n",
    "    timeA = dt_timeA - ref_time\n",
    "    time_diff = 1 - (timeQ.days*86400 + timeQ.seconds) / (timeA.days*86400 + timeA.seconds)\n",
    "    return time_diff\n",
    "\n",
    "    \n",
    "def get_time_diff(df):\n",
    "    for index, row in df.iterrows():\n",
    "        row.CreationDate_A = datetime.datetime.strptime(row.CreationDate_A, \"%Y-%m-%dT%H:%M:%SZ\")\n",
    "        row.CreationDate_Q = datetime.datetime.strptime(row.CreationDate_Q, \"%Y-%m-%dT%H:%M:%SZ\")\n",
    "        df.at[index, 'time_diff'] = to_integer(row.CreationDate_Q, row.CreationDate_A)\n",
    "    return df\n",
    "\n",
    "\n",
    "df = get_time_diff(df)\n",
    "df['score'] = df['Score_A'] + df['Score_A'] * df['time_diff']\n",
    "\n",
    "df_test = df[12500:]\n",
    "df_train = df[:12500]"
   ]
  },
  {
   "cell_type": "code",
   "execution_count": 4,
   "metadata": {},
   "outputs": [],
   "source": [
    "stopwords.words('english')\n",
    "\n",
    "def tokenizer_cleaning(sentences):\n",
    "    text_tokens = word_tokenize(sentences)\n",
    "    tokens_without_sw = [word for word in text_tokens if not word in stopwords.words()]\n",
    "    tokens = [re.sub('\\W', ' ', str(row)).lower() for row in tokens_without_sw]\n",
    "\n",
    "    return tokens"
   ]
  },
  {
   "cell_type": "code",
   "execution_count": 5,
   "metadata": {},
   "outputs": [],
   "source": [
    "vectorizer_bodyQ = TfidfVectorizer(analyzer = tokenizer_cleaning, ngram_range=(5,5))\n",
    "vectorizer_bodyA = TfidfVectorizer(analyzer = tokenizer_cleaning, ngram_range=(5,5))"
   ]
  },
  {
   "cell_type": "code",
   "execution_count": 6,
   "metadata": {},
   "outputs": [],
   "source": [
    "vectorized_bodyQ_train = vectorizer_bodyQ.fit_transform(df_train['Body_Q'])\n",
    "vectorized_bodyA_train = vectorizer_bodyA.fit_transform(df_train['Body_A'])\n",
    "vectorized_train = sp.hstack([vectorized_bodyQ_train, vectorized_bodyA_train])"
   ]
  },
  {
   "cell_type": "code",
   "execution_count": 7,
   "metadata": {},
   "outputs": [
    {
     "data": {
      "text/plain": [
       "RandomForestRegressor(bootstrap=True, ccp_alpha=0.0, criterion='mse',\n",
       "                      max_depth=20, max_features='auto', max_leaf_nodes=None,\n",
       "                      max_samples=None, min_impurity_decrease=0.0,\n",
       "                      min_impurity_split=None, min_samples_leaf=1,\n",
       "                      min_samples_split=2, min_weight_fraction_leaf=0.0,\n",
       "                      n_estimators=1000, n_jobs=None, oob_score=False,\n",
       "                      random_state=0, verbose=0, warm_start=False)"
      ]
     },
     "execution_count": 7,
     "metadata": {},
     "output_type": "execute_result"
    }
   ],
   "source": [
    "model = RandomForestRegressor(max_depth=20, random_state=0, n_estimators=1000)\n",
    "model.fit(vectorized_train, df_train['score'])"
   ]
  },
  {
   "cell_type": "code",
   "execution_count": 8,
   "metadata": {},
   "outputs": [],
   "source": [
    "vectorized_bodyQ_test = vectorizer_bodyQ.transform(df_test['Body_Q'])\n",
    "vectorized_bodyA_test = vectorizer_bodyA.transform(df_test['Body_A'])\n",
    "vectorized_test = sp.hstack([vectorized_bodyQ_test, vectorized_bodyA_test])"
   ]
  },
  {
   "cell_type": "code",
   "execution_count": 45,
   "metadata": {},
   "outputs": [
    {
     "name": "stdout",
     "output_type": "stream",
     "text": [
      "12500    -3.000015\n",
      "12501    16.000916\n",
      "12502     1.001173\n",
      "12503     1.746214\n",
      "12504    12.787825\n",
      "           ...    \n",
      "24995     0.000000\n",
      "24996     2.000033\n",
      "24997     3.000060\n",
      "24998     1.000488\n",
      "24999     3.002241\n",
      "Name: score, Length: 12500, dtype: float64\n",
      "[19.23248278 15.59432689 21.35850206 ... 13.71211521 15.30234312\n",
      " 13.83693259]\n"
     ]
    },
    {
     "data": {
      "text/plain": [
       "-0.012658251136771215"
      ]
     },
     "execution_count": 45,
     "metadata": {},
     "output_type": "execute_result"
    }
   ],
   "source": [
    "predicted_score = model.predict(vectorized_test)\n",
    "print(df_test['score'])\n",
    "print(predicted_score)\n",
    "\n",
    "model.score(vectorized_test, df_test['score'])"
   ]
  },
  {
   "cell_type": "code",
   "execution_count": null,
   "metadata": {},
   "outputs": [],
   "source": [
    "print('ok')"
   ]
  },
  {
   "cell_type": "code",
   "execution_count": null,
   "metadata": {},
   "outputs": [],
   "source": []
  }
 ],
 "metadata": {
  "kernelspec": {
   "display_name": "Python 3",
   "language": "python",
   "name": "python3"
  },
  "language_info": {
   "codemirror_mode": {
    "name": "ipython",
    "version": 3
   },
   "file_extension": ".py",
   "mimetype": "text/x-python",
   "name": "python",
   "nbconvert_exporter": "python",
   "pygments_lexer": "ipython3",
   "version": "3.6.10"
  }
 },
 "nbformat": 4,
 "nbformat_minor": 4
}
